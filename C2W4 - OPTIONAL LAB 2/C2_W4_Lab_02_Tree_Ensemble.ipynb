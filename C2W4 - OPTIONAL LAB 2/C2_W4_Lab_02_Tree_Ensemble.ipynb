{
 "cells": [
  {
   "cell_type": "markdown",
   "metadata": {},
   "source": [
    "# Ungraded Lab - Trees Ensemble\n",
    "\n",
    "In this notebook, you will:\n",
    "\n",
    " - Use Pandas to perform one-hot encoding of a dataset\n",
    " - Use scikit-learn to implement a Decision Tree, Random Forest and XGBoost models"
   ]
  },
  {
   "cell_type": "markdown",
   "metadata": {},
   "source": [
    "Let's import the libraries we will use."
   ]
  },
  {
   "cell_type": "code",
   "execution_count": 2,
   "metadata": {},
   "outputs": [],
   "source": [
    "import numpy as np\n",
    "import pandas as pd\n",
    "from sklearn.tree import DecisionTreeClassifier\n",
    "from sklearn.ensemble import RandomForestClassifier\n",
    "from sklearn.model_selection import train_test_split\n",
    "from sklearn.metrics import accuracy_score\n",
    "from xgboost import XGBClassifier\n",
    "import matplotlib.pyplot as plt\n",
    "plt.style.use('./deeplearning.mplstyle')\n",
    "\n",
    "RANDOM_STATE = 55 ## We will pass it to every sklearn call so we ensure reproducibility"
   ]
  },
  {
   "cell_type": "markdown",
   "metadata": {},
   "source": [
    "# 1. Introduction"
   ]
  },
  {
   "cell_type": "markdown",
   "metadata": {},
   "source": [
    "#### Datatset\n",
    "- This dataset is obtained from Kaggle: [Heart Failure Prediction Dataset](https://www.kaggle.com/datasets/fedesoriano/heart-failure-prediction)\n",
    "\n",
    "#### Context\n",
    "- Cardiovascular disease (CVDs) is the number one cause of death globally, taking an estimated 17.9 million lives each year, which accounts for 31% of all deaths worldwide. Four out of five CVD deaths are due to heart attacks and strokes, and one-third of these deaths occur prematurely in people under 70 years of age. Heart failure is a common event caused by CVDs.\n",
    "- People with cardiovascular disease or who are at high cardiovascular risk (due to the presence of one or more risk factors such as hypertension, diabetes, hyperlipidaemia or already established disease) need early detection and management.  \n",
    "- This dataset contains 11 features that can be used to predict possible heart disease.\n",
    "- Let's train a machine learning model to assist with diagnosing this disease.\n",
    "\n",
    "#### Attribute Information\n",
    "- Age: age of the patient [years]\n",
    "- Sex: sex of the patient [M: Male, F: Female]\n",
    "- ChestPainType: chest pain type [TA: Typical Angina, ATA: Atypical Angina, NAP: Non-Anginal Pain, ASY: Asymptomatic]\n",
    "- RestingBP: resting blood pressure [mm Hg]\n",
    "- Cholesterol: serum cholesterol [mm/dl]\n",
    "- FastingBS: fasting blood sugar [1: if FastingBS > 120 mg/dl, 0: otherwise]\n",
    "- RestingECG: resting electrocardiogram results [Normal: Normal, ST: having ST-T wave abnormality (T wave inversions and/or ST elevation or depression of > 0.05 mV), LVH: showing probable or definite left ventricular hypertrophy by Estes' criteria]\n",
    "- MaxHR: maximum heart rate achieved [Numeric value between 60 and 202]\n",
    "- ExerciseAngina: exercise-induced angina [Y: Yes, N: No]\n",
    "- Oldpeak: oldpeak = ST [Numeric value measured in depression]\n",
    "- ST_Slope: the slope of the peak exercise ST segment [Up: upsloping, Flat: flat, Down: downsloping]\n",
    "- HeartDisease: output class [1: heart disease, 0: Normal]"
   ]
  },
  {
   "cell_type": "markdown",
   "metadata": {},
   "source": [
    "Let's now load the dataset. As we can see above, the variables:\n",
    "\n",
    "- Sex\n",
    "- ChestPainType\n",
    "- RestingECG\n",
    "- ExerciseAngina\n",
    "- ST_Slope\n",
    "\n",
    "Are *categorical*, so we must one-hot encode them. "
   ]
  },
  {
   "cell_type": "code",
   "execution_count": 3,
   "metadata": {},
   "outputs": [],
   "source": [
    "# Load the dataset using pandas\n",
    "df = pd.read_csv(\"heart.csv\")"
   ]
  },
  {
   "cell_type": "code",
   "execution_count": 4,
   "metadata": {},
   "outputs": [
    {
     "data": {
      "text/html": [
       "<div>\n",
       "<style scoped>\n",
       "    .dataframe tbody tr th:only-of-type {\n",
       "        vertical-align: middle;\n",
       "    }\n",
       "\n",
       "    .dataframe tbody tr th {\n",
       "        vertical-align: top;\n",
       "    }\n",
       "\n",
       "    .dataframe thead th {\n",
       "        text-align: right;\n",
       "    }\n",
       "</style>\n",
       "<table border=\"1\" class=\"dataframe\">\n",
       "  <thead>\n",
       "    <tr style=\"text-align: right;\">\n",
       "      <th></th>\n",
       "      <th>Age</th>\n",
       "      <th>Sex</th>\n",
       "      <th>ChestPainType</th>\n",
       "      <th>RestingBP</th>\n",
       "      <th>Cholesterol</th>\n",
       "      <th>FastingBS</th>\n",
       "      <th>RestingECG</th>\n",
       "      <th>MaxHR</th>\n",
       "      <th>ExerciseAngina</th>\n",
       "      <th>Oldpeak</th>\n",
       "      <th>ST_Slope</th>\n",
       "      <th>HeartDisease</th>\n",
       "    </tr>\n",
       "  </thead>\n",
       "  <tbody>\n",
       "    <tr>\n",
       "      <th>0</th>\n",
       "      <td>40</td>\n",
       "      <td>M</td>\n",
       "      <td>ATA</td>\n",
       "      <td>140</td>\n",
       "      <td>289</td>\n",
       "      <td>0</td>\n",
       "      <td>Normal</td>\n",
       "      <td>172</td>\n",
       "      <td>N</td>\n",
       "      <td>0.0</td>\n",
       "      <td>Up</td>\n",
       "      <td>0</td>\n",
       "    </tr>\n",
       "    <tr>\n",
       "      <th>1</th>\n",
       "      <td>49</td>\n",
       "      <td>F</td>\n",
       "      <td>NAP</td>\n",
       "      <td>160</td>\n",
       "      <td>180</td>\n",
       "      <td>0</td>\n",
       "      <td>Normal</td>\n",
       "      <td>156</td>\n",
       "      <td>N</td>\n",
       "      <td>1.0</td>\n",
       "      <td>Flat</td>\n",
       "      <td>1</td>\n",
       "    </tr>\n",
       "    <tr>\n",
       "      <th>2</th>\n",
       "      <td>37</td>\n",
       "      <td>M</td>\n",
       "      <td>ATA</td>\n",
       "      <td>130</td>\n",
       "      <td>283</td>\n",
       "      <td>0</td>\n",
       "      <td>ST</td>\n",
       "      <td>98</td>\n",
       "      <td>N</td>\n",
       "      <td>0.0</td>\n",
       "      <td>Up</td>\n",
       "      <td>0</td>\n",
       "    </tr>\n",
       "    <tr>\n",
       "      <th>3</th>\n",
       "      <td>48</td>\n",
       "      <td>F</td>\n",
       "      <td>ASY</td>\n",
       "      <td>138</td>\n",
       "      <td>214</td>\n",
       "      <td>0</td>\n",
       "      <td>Normal</td>\n",
       "      <td>108</td>\n",
       "      <td>Y</td>\n",
       "      <td>1.5</td>\n",
       "      <td>Flat</td>\n",
       "      <td>1</td>\n",
       "    </tr>\n",
       "    <tr>\n",
       "      <th>4</th>\n",
       "      <td>54</td>\n",
       "      <td>M</td>\n",
       "      <td>NAP</td>\n",
       "      <td>150</td>\n",
       "      <td>195</td>\n",
       "      <td>0</td>\n",
       "      <td>Normal</td>\n",
       "      <td>122</td>\n",
       "      <td>N</td>\n",
       "      <td>0.0</td>\n",
       "      <td>Up</td>\n",
       "      <td>0</td>\n",
       "    </tr>\n",
       "  </tbody>\n",
       "</table>\n",
       "</div>"
      ],
      "text/plain": [
       "   Age Sex ChestPainType  RestingBP  Cholesterol  FastingBS RestingECG  MaxHR  \\\n",
       "0   40   M           ATA        140          289          0     Normal    172   \n",
       "1   49   F           NAP        160          180          0     Normal    156   \n",
       "2   37   M           ATA        130          283          0         ST     98   \n",
       "3   48   F           ASY        138          214          0     Normal    108   \n",
       "4   54   M           NAP        150          195          0     Normal    122   \n",
       "\n",
       "  ExerciseAngina  Oldpeak ST_Slope  HeartDisease  \n",
       "0              N      0.0       Up             0  \n",
       "1              N      1.0     Flat             1  \n",
       "2              N      0.0       Up             0  \n",
       "3              Y      1.5     Flat             1  \n",
       "4              N      0.0       Up             0  "
      ]
     },
     "execution_count": 4,
     "metadata": {},
     "output_type": "execute_result"
    }
   ],
   "source": [
    "df.head()"
   ]
  },
  {
   "cell_type": "markdown",
   "metadata": {},
   "source": [
    "We must perform some data engineering before working with the models. There are 5 categorical features, so we will use Pandas to one-hot encode them."
   ]
  },
  {
   "cell_type": "markdown",
   "metadata": {},
   "source": [
    "## 2. One-hot encoding using Pandas\n",
    "\n",
    "First we will remove the binary variables, because one-hot encoding them would do nothing to them. To achieve this we will just count how many different values there are in each categorical variable and **consider only the variables with 3 or more values**."
   ]
  },
  {
   "cell_type": "code",
   "execution_count": 5,
   "metadata": {},
   "outputs": [],
   "source": [
    "cat_variables = ['Sex',\n",
    "'ChestPainType',\n",
    "'RestingECG',\n",
    "'ExerciseAngina',\n",
    "'ST_Slope'\n",
    "]"
   ]
  },
  {
   "cell_type": "markdown",
   "metadata": {},
   "source": [
    "As a reminder, one-hot encoding aims to **transform a categorical variable with `n` outputs into `n` binary variables**.\n",
    "\n",
    "Pandas has a built-in method to one-hot encode variables, it is the function `pd.get_dummies`. There are several arguments to this function, but here we will use only a few. They are:\n",
    "\n",
    " - data: DataFrame to be used\n",
    " - prefix: A list with prefixes, so we know which value we are dealing with\n",
    " - columns: the list of columns that **will be one-hot encoded**. 'prefix' and 'columns' must have the same length.\n",
    " \n",
    "For more information, you can always type `help(pd.get_dummies)` to read the function's full documentation."
   ]
  },
  {
   "cell_type": "code",
   "execution_count": 6,
   "metadata": {},
   "outputs": [],
   "source": [
    "# This will replace the columns with the one-hot encoded ones and keep the columns outside 'columns' argument as it is.\n",
    "df = pd.get_dummies(data = df,\n",
    "                         prefix = cat_variables,\n",
    "                         columns = cat_variables)"
   ]
  },
  {
   "cell_type": "code",
   "execution_count": 7,
   "metadata": {},
   "outputs": [
    {
     "data": {
      "text/html": [
       "<div>\n",
       "<style scoped>\n",
       "    .dataframe tbody tr th:only-of-type {\n",
       "        vertical-align: middle;\n",
       "    }\n",
       "\n",
       "    .dataframe tbody tr th {\n",
       "        vertical-align: top;\n",
       "    }\n",
       "\n",
       "    .dataframe thead th {\n",
       "        text-align: right;\n",
       "    }\n",
       "</style>\n",
       "<table border=\"1\" class=\"dataframe\">\n",
       "  <thead>\n",
       "    <tr style=\"text-align: right;\">\n",
       "      <th></th>\n",
       "      <th>Age</th>\n",
       "      <th>RestingBP</th>\n",
       "      <th>Cholesterol</th>\n",
       "      <th>FastingBS</th>\n",
       "      <th>MaxHR</th>\n",
       "      <th>Oldpeak</th>\n",
       "      <th>HeartDisease</th>\n",
       "      <th>Sex_F</th>\n",
       "      <th>Sex_M</th>\n",
       "      <th>ChestPainType_ASY</th>\n",
       "      <th>...</th>\n",
       "      <th>ChestPainType_NAP</th>\n",
       "      <th>ChestPainType_TA</th>\n",
       "      <th>RestingECG_LVH</th>\n",
       "      <th>RestingECG_Normal</th>\n",
       "      <th>RestingECG_ST</th>\n",
       "      <th>ExerciseAngina_N</th>\n",
       "      <th>ExerciseAngina_Y</th>\n",
       "      <th>ST_Slope_Down</th>\n",
       "      <th>ST_Slope_Flat</th>\n",
       "      <th>ST_Slope_Up</th>\n",
       "    </tr>\n",
       "  </thead>\n",
       "  <tbody>\n",
       "    <tr>\n",
       "      <th>0</th>\n",
       "      <td>40</td>\n",
       "      <td>140</td>\n",
       "      <td>289</td>\n",
       "      <td>0</td>\n",
       "      <td>172</td>\n",
       "      <td>0.0</td>\n",
       "      <td>0</td>\n",
       "      <td>0</td>\n",
       "      <td>1</td>\n",
       "      <td>0</td>\n",
       "      <td>...</td>\n",
       "      <td>0</td>\n",
       "      <td>0</td>\n",
       "      <td>0</td>\n",
       "      <td>1</td>\n",
       "      <td>0</td>\n",
       "      <td>1</td>\n",
       "      <td>0</td>\n",
       "      <td>0</td>\n",
       "      <td>0</td>\n",
       "      <td>1</td>\n",
       "    </tr>\n",
       "    <tr>\n",
       "      <th>1</th>\n",
       "      <td>49</td>\n",
       "      <td>160</td>\n",
       "      <td>180</td>\n",
       "      <td>0</td>\n",
       "      <td>156</td>\n",
       "      <td>1.0</td>\n",
       "      <td>1</td>\n",
       "      <td>1</td>\n",
       "      <td>0</td>\n",
       "      <td>0</td>\n",
       "      <td>...</td>\n",
       "      <td>1</td>\n",
       "      <td>0</td>\n",
       "      <td>0</td>\n",
       "      <td>1</td>\n",
       "      <td>0</td>\n",
       "      <td>1</td>\n",
       "      <td>0</td>\n",
       "      <td>0</td>\n",
       "      <td>1</td>\n",
       "      <td>0</td>\n",
       "    </tr>\n",
       "    <tr>\n",
       "      <th>2</th>\n",
       "      <td>37</td>\n",
       "      <td>130</td>\n",
       "      <td>283</td>\n",
       "      <td>0</td>\n",
       "      <td>98</td>\n",
       "      <td>0.0</td>\n",
       "      <td>0</td>\n",
       "      <td>0</td>\n",
       "      <td>1</td>\n",
       "      <td>0</td>\n",
       "      <td>...</td>\n",
       "      <td>0</td>\n",
       "      <td>0</td>\n",
       "      <td>0</td>\n",
       "      <td>0</td>\n",
       "      <td>1</td>\n",
       "      <td>1</td>\n",
       "      <td>0</td>\n",
       "      <td>0</td>\n",
       "      <td>0</td>\n",
       "      <td>1</td>\n",
       "    </tr>\n",
       "    <tr>\n",
       "      <th>3</th>\n",
       "      <td>48</td>\n",
       "      <td>138</td>\n",
       "      <td>214</td>\n",
       "      <td>0</td>\n",
       "      <td>108</td>\n",
       "      <td>1.5</td>\n",
       "      <td>1</td>\n",
       "      <td>1</td>\n",
       "      <td>0</td>\n",
       "      <td>1</td>\n",
       "      <td>...</td>\n",
       "      <td>0</td>\n",
       "      <td>0</td>\n",
       "      <td>0</td>\n",
       "      <td>1</td>\n",
       "      <td>0</td>\n",
       "      <td>0</td>\n",
       "      <td>1</td>\n",
       "      <td>0</td>\n",
       "      <td>1</td>\n",
       "      <td>0</td>\n",
       "    </tr>\n",
       "    <tr>\n",
       "      <th>4</th>\n",
       "      <td>54</td>\n",
       "      <td>150</td>\n",
       "      <td>195</td>\n",
       "      <td>0</td>\n",
       "      <td>122</td>\n",
       "      <td>0.0</td>\n",
       "      <td>0</td>\n",
       "      <td>0</td>\n",
       "      <td>1</td>\n",
       "      <td>0</td>\n",
       "      <td>...</td>\n",
       "      <td>1</td>\n",
       "      <td>0</td>\n",
       "      <td>0</td>\n",
       "      <td>1</td>\n",
       "      <td>0</td>\n",
       "      <td>1</td>\n",
       "      <td>0</td>\n",
       "      <td>0</td>\n",
       "      <td>0</td>\n",
       "      <td>1</td>\n",
       "    </tr>\n",
       "  </tbody>\n",
       "</table>\n",
       "<p>5 rows × 21 columns</p>\n",
       "</div>"
      ],
      "text/plain": [
       "   Age  RestingBP  Cholesterol  FastingBS  MaxHR  Oldpeak  HeartDisease  \\\n",
       "0   40        140          289          0    172      0.0             0   \n",
       "1   49        160          180          0    156      1.0             1   \n",
       "2   37        130          283          0     98      0.0             0   \n",
       "3   48        138          214          0    108      1.5             1   \n",
       "4   54        150          195          0    122      0.0             0   \n",
       "\n",
       "   Sex_F  Sex_M  ChestPainType_ASY  ...  ChestPainType_NAP  ChestPainType_TA  \\\n",
       "0      0      1                  0  ...                  0                 0   \n",
       "1      1      0                  0  ...                  1                 0   \n",
       "2      0      1                  0  ...                  0                 0   \n",
       "3      1      0                  1  ...                  0                 0   \n",
       "4      0      1                  0  ...                  1                 0   \n",
       "\n",
       "   RestingECG_LVH  RestingECG_Normal  RestingECG_ST  ExerciseAngina_N  \\\n",
       "0               0                  1              0                 1   \n",
       "1               0                  1              0                 1   \n",
       "2               0                  0              1                 1   \n",
       "3               0                  1              0                 0   \n",
       "4               0                  1              0                 1   \n",
       "\n",
       "   ExerciseAngina_Y  ST_Slope_Down  ST_Slope_Flat  ST_Slope_Up  \n",
       "0                 0              0              0            1  \n",
       "1                 0              0              1            0  \n",
       "2                 0              0              0            1  \n",
       "3                 1              0              1            0  \n",
       "4                 0              0              0            1  \n",
       "\n",
       "[5 rows x 21 columns]"
      ]
     },
     "execution_count": 7,
     "metadata": {},
     "output_type": "execute_result"
    }
   ],
   "source": [
    "df.head()"
   ]
  },
  {
   "cell_type": "markdown",
   "metadata": {},
   "source": [
    "Let's choose the variables that will be the input features of the model.\n",
    "- The target is `HeartDisease`.\n",
    "- All other variables are features that can potentially be used to predict the target, `HeartDisease`."
   ]
  },
  {
   "cell_type": "code",
   "execution_count": 8,
   "metadata": {},
   "outputs": [],
   "source": [
    "features = [x for x in df.columns if x not in 'HeartDisease'] ## Removing our TARGET variable"
   ]
  },
  {
   "cell_type": "markdown",
   "metadata": {},
   "source": [
    "We started with 11 features.  Let's see how many feature variables we have after one-hot encoding."
   ]
  },
  {
   "cell_type": "code",
   "execution_count": 9,
   "metadata": {},
   "outputs": [
    {
     "name": "stdout",
     "output_type": "stream",
     "text": [
      "20\n"
     ]
    }
   ],
   "source": [
    "print(len(features))"
   ]
  },
  {
   "cell_type": "markdown",
   "metadata": {},
   "source": [
    "# 3. Splitting the Dataset\n",
    "\n",
    "In this section, we will split our dataset into train and test datasets. We will use the function `train_test_split` from Scikit-learn. Let's just check its arguments."
   ]
  },
  {
   "cell_type": "code",
   "execution_count": 10,
   "metadata": {},
   "outputs": [
    {
     "name": "stdout",
     "output_type": "stream",
     "text": [
      "Help on function train_test_split in module sklearn.model_selection._split:\n",
      "\n",
      "train_test_split(*arrays, test_size=None, train_size=None, random_state=None, shuffle=True, stratify=None)\n",
      "    Split arrays or matrices into random train and test subsets.\n",
      "    \n",
      "    Quick utility that wraps input validation and\n",
      "    ``next(ShuffleSplit().split(X, y))`` and application to input data\n",
      "    into a single call for splitting (and optionally subsampling) data in a\n",
      "    oneliner.\n",
      "    \n",
      "    Read more in the :ref:`User Guide <cross_validation>`.\n",
      "    \n",
      "    Parameters\n",
      "    ----------\n",
      "    *arrays : sequence of indexables with same length / shape[0]\n",
      "        Allowed inputs are lists, numpy arrays, scipy-sparse\n",
      "        matrices or pandas dataframes.\n",
      "    \n",
      "    test_size : float or int, default=None\n",
      "        If float, should be between 0.0 and 1.0 and represent the proportion\n",
      "        of the dataset to include in the test split. If int, represents the\n",
      "        absolute number of test samples. If None, the value is set to the\n",
      "        complement of the train size. If ``train_size`` is also None, it will\n",
      "        be set to 0.25.\n",
      "    \n",
      "    train_size : float or int, default=None\n",
      "        If float, should be between 0.0 and 1.0 and represent the\n",
      "        proportion of the dataset to include in the train split. If\n",
      "        int, represents the absolute number of train samples. If None,\n",
      "        the value is automatically set to the complement of the test size.\n",
      "    \n",
      "    random_state : int, RandomState instance or None, default=None\n",
      "        Controls the shuffling applied to the data before applying the split.\n",
      "        Pass an int for reproducible output across multiple function calls.\n",
      "        See :term:`Glossary <random_state>`.\n",
      "    \n",
      "    shuffle : bool, default=True\n",
      "        Whether or not to shuffle the data before splitting. If shuffle=False\n",
      "        then stratify must be None.\n",
      "    \n",
      "    stratify : array-like, default=None\n",
      "        If not None, data is split in a stratified fashion, using this as\n",
      "        the class labels.\n",
      "        Read more in the :ref:`User Guide <stratification>`.\n",
      "    \n",
      "    Returns\n",
      "    -------\n",
      "    splitting : list, length=2 * len(arrays)\n",
      "        List containing train-test split of inputs.\n",
      "    \n",
      "        .. versionadded:: 0.16\n",
      "            If the input is sparse, the output will be a\n",
      "            ``scipy.sparse.csr_matrix``. Else, output type is the same as the\n",
      "            input type.\n",
      "    \n",
      "    Examples\n",
      "    --------\n",
      "    >>> import numpy as np\n",
      "    >>> from sklearn.model_selection import train_test_split\n",
      "    >>> X, y = np.arange(10).reshape((5, 2)), range(5)\n",
      "    >>> X\n",
      "    array([[0, 1],\n",
      "           [2, 3],\n",
      "           [4, 5],\n",
      "           [6, 7],\n",
      "           [8, 9]])\n",
      "    >>> list(y)\n",
      "    [0, 1, 2, 3, 4]\n",
      "    \n",
      "    >>> X_train, X_test, y_train, y_test = train_test_split(\n",
      "    ...     X, y, test_size=0.33, random_state=42)\n",
      "    ...\n",
      "    >>> X_train\n",
      "    array([[4, 5],\n",
      "           [0, 1],\n",
      "           [6, 7]])\n",
      "    >>> y_train\n",
      "    [2, 0, 3]\n",
      "    >>> X_test\n",
      "    array([[2, 3],\n",
      "           [8, 9]])\n",
      "    >>> y_test\n",
      "    [1, 4]\n",
      "    \n",
      "    >>> train_test_split(y, shuffle=False)\n",
      "    [[0, 1, 2], [3, 4]]\n",
      "\n"
     ]
    }
   ],
   "source": [
    "help(train_test_split)"
   ]
  },
  {
   "cell_type": "code",
   "execution_count": 11,
   "metadata": {},
   "outputs": [],
   "source": [
    "X_train, X_val, y_train, y_val = train_test_split(df[features], df['HeartDisease'], train_size = 0.8, random_state = RANDOM_STATE)\n",
    "\n",
    "# We will keep the shuffle = True since our dataset has not any TIME DEPENDENCY."
   ]
  },
  {
   "cell_type": "code",
   "execution_count": 12,
   "metadata": {},
   "outputs": [
    {
     "name": "stdout",
     "output_type": "stream",
     "text": [
      "train samples: 734\n",
      "validation samples: 184\n",
      "target proportion: 0.5518\n"
     ]
    }
   ],
   "source": [
    "print(f'train samples: {len(X_train)}')\n",
    "print(f'validation samples: {len(X_val)}')\n",
    "print(f'target proportion: {sum(y_train)/len(y_train):.4f}')"
   ]
  },
  {
   "cell_type": "markdown",
   "metadata": {},
   "source": [
    "# 4. Building the Models\n",
    "\n",
    "## 4.1 Decision Tree\n",
    "\n",
    "In this section, let's work with the Decision Tree we previously learned, but now using the [Scikit-learn implementation](https://scikit-learn.org/stable/modules/generated/sklearn.tree.DecisionTreeClassifier.html). \n",
    "\n",
    "There are several hyperparameters in the Decision Tree object from Scikit-learn. We will use only some of them and also we will not perform **feature selection** nor **hyperparameter tuning** in this lab (but you are encouraged to do so and compare the results 😄 )\n",
    "\n",
    "The hyperparameters we will use and investigate here are:\n",
    "\n",
    " - min_samples_split: The minimum number of samples required to split an internal node. \n",
    "   - Choosing a **HIGHER min_samples_split** can reduce the number of splits and may help to **reduce overfitting**.\n",
    " - max_depth: The maximum depth of the tree. \n",
    "   - Choosing a **LOWER max_depth** can reduce the number of splits and may help to **reduce overfitting**."
   ]
  },
  {
   "cell_type": "code",
   "execution_count": 13,
   "metadata": {},
   "outputs": [],
   "source": [
    "min_samples_split_list = [2,10, 30, 50, 100, 200, 300, 700] ## If the number is an integer, then it is the actual quantity of samples,\n",
    "max_depth_list = [1,2, 3, 4, 8, 16, 32, 64, None] # None means that there is no depth limit."
   ]
  },
  {
   "cell_type": "code",
   "execution_count": 14,
   "metadata": {},
   "outputs": [
    {
     "data": {
      "image/png": "[encoded data removed]",
      "text/plain": [
       "<Figure size 432x288 with 1 Axes>"
      ]
     },
     "metadata": {
      "needs_background": "light"
     },
     "output_type": "display_data"
    }
   ],
   "source": [
    "# Initialize empty lists to store accuracy scores for training and validation sets\n",
    "accuracy_list_train = []\n",
    "accuracy_list_val = []\n",
    "\n",
    "# Iterate over each value in min_samples_split_list to evaluate different splits\n",
    "for min_samples_split in min_samples_split_list:\n",
    "    # Initialize the Decision Tree model with the current min_samples_split value\n",
    "    # random_state ensures reproducibility of results\n",
    "    # The fit method trains the model on the training data (X_train, y_train)\n",
    "    model = DecisionTreeClassifier(\n",
    "        min_samples_split=min_samples_split,\n",
    "        random_state=RANDOM_STATE\n",
    "    ).fit(X_train, y_train)\n",
    "    \n",
    "    # Predict the labels for the training dataset using the trained model\n",
    "    predictions_train = model.predict(X_train)  # Predicted values for the training set\n",
    "    \n",
    "    # Predict the labels for the validation dataset using the trained model\n",
    "    predictions_val = model.predict(X_val)      # Predicted values for the validation set\n",
    "    \n",
    "    # Calculate the accuracy of the model on the training dataset\n",
    "    # accuracy_score compares the predicted labels with the true labels (y_train)\n",
    "    accuracy_train = accuracy_score(predictions_train, y_train)\n",
    "    \n",
    "    # Calculate the accuracy of the model on the validation dataset\n",
    "    # accuracy_score compares the predicted labels with the true labels (y_val)\n",
    "    accuracy_val = accuracy_score(predictions_val, y_val)\n",
    "    \n",
    "    # Append the training accuracy to the accuracy_list_train\n",
    "    accuracy_list_train.append(accuracy_train)\n",
    "    \n",
    "    # Append the validation accuracy to the accuracy_list_val\n",
    "    accuracy_list_val.append(accuracy_val)\n",
    "\n",
    "# Set the title of the plot\n",
    "plt.title('Train vs Validation Accuracy Metrics')\n",
    "\n",
    "# Label the x-axis with the parameter being varied\n",
    "plt.xlabel('min_samples_split')\n",
    "\n",
    "# Label the y-axis with the metric being measured\n",
    "plt.ylabel('Accuracy')\n",
    "\n",
    "# Define the positions and labels for the x-ticks based on the number of min_samples_split values\n",
    "plt.xticks(\n",
    "    ticks=range(len(min_samples_split_list)),\n",
    "    labels=min_samples_split_list\n",
    ")\n",
    "\n",
    "# Plot the training accuracy scores\n",
    "plt.plot(accuracy_list_train, marker='o', label='Train')\n",
    "\n",
    "# Plot the validation accuracy scores\n",
    "plt.plot(accuracy_list_val, marker='s', label='Validation')\n",
    "\n",
    "# Add a legend to distinguish between training and validation plots\n",
    "plt.legend(['Train', 'Validation'])\n",
    "\n",
    "# Display the plot\n",
    "plt.show()\n"
   ]
  },
  {
   "cell_type": "markdown",
   "metadata": {},
   "source": [
    "Note how increasing the the number of `min_samples_split` reduces overfitting.\n",
    "- Increasing `min_samples_split` from 10 to 30, and from 30 to 50, even though it does not improve the validation accuracy, it brings the training accuracy closer to it, showing a reduction in overfitting.\n",
    "\n",
    "Let's do the same experiment with `max_depth`."
   ]
  },
  {
   "cell_type": "code",
   "execution_count": 15,
   "metadata": {},
   "outputs": [
    {
     "data": {
      "image/png": "[encoded data removed]",
      "text/plain": [
       "<Figure size 432x288 with 1 Axes>"
      ]
     },
     "metadata": {
      "needs_background": "light"
     },
     "output_type": "display_data"
    }
   ],
   "source": [
    "# Import necessary libraries\n",
    "from sklearn.tree import DecisionTreeClassifier\n",
    "from sklearn.metrics import accuracy_score\n",
    "import matplotlib.pyplot as plt\n",
    "\n",
    "# Initialize empty lists to store accuracy scores for training and validation sets\n",
    "accuracy_list_train = []\n",
    "accuracy_list_val = []\n",
    "\n",
    "# Iterate over each value in max_depth_list to evaluate different tree depths\n",
    "for max_depth in max_depth_list:\n",
    "    # Initialize the Decision Tree model with the current max_depth value\n",
    "    # random_state ensures reproducibility of results\n",
    "    # The fit method trains the model on the training data (X_train, y_train)\n",
    "    model = DecisionTreeClassifier(\n",
    "        max_depth=max_depth,\n",
    "        random_state=RANDOM_STATE\n",
    "    ).fit(X_train, y_train)\n",
    "    \n",
    "    # Predict the labels for the training dataset using the trained model\n",
    "    predictions_train = model.predict(X_train)  # Predicted values for the training set\n",
    "    \n",
    "    # Predict the labels for the validation dataset using the trained model\n",
    "    predictions_val = model.predict(X_val)      # Predicted values for the validation set\n",
    "    \n",
    "    # Calculate the accuracy of the model on the training dataset\n",
    "    # accuracy_score compares the predicted labels with the true labels (y_train)\n",
    "    accuracy_train = accuracy_score(predictions_train, y_train)\n",
    "    \n",
    "    # Calculate the accuracy of the model on the validation dataset\n",
    "    # accuracy_score compares the predicted labels with the true labels (y_val)\n",
    "    accuracy_val = accuracy_score(predictions_val, y_val)\n",
    "    \n",
    "    # Append the training accuracy to the accuracy_list_train\n",
    "    accuracy_list_train.append(accuracy_train)\n",
    "    \n",
    "    # Append the validation accuracy to the accuracy_list_val\n",
    "    accuracy_list_val.append(accuracy_val)\n",
    "\n",
    "# Set the title of the plot\n",
    "plt.title('Train vs Validation Accuracy Metrics')\n",
    "\n",
    "# Label the x-axis with the parameter being varied\n",
    "plt.xlabel('max_depth')\n",
    "\n",
    "# Label the y-axis with the metric being measured\n",
    "plt.ylabel('Accuracy')\n",
    "\n",
    "# Define the positions and labels for the x-ticks based on the number of max_depth values\n",
    "plt.xticks(\n",
    "    ticks=range(len(max_depth_list)),\n",
    "    labels=max_depth_list\n",
    ")\n",
    "\n",
    "# Plot the training accuracy scores\n",
    "plt.plot(accuracy_list_train, marker='o', label='Train')\n",
    "\n",
    "# Plot the validation accuracy scores\n",
    "plt.plot(accuracy_list_val, marker='s', label='Validation')\n",
    "\n",
    "# Add a legend to distinguish between training and validation plots\n",
    "plt.legend(['Train', 'Validation'])\n",
    "\n",
    "# Display the plot\n",
    "plt.show()\n"
   ]
  },
  {
   "cell_type": "markdown",
   "metadata": {},
   "source": [
    "We can see that in general, reducing `max_depth` can help to reduce overfitting.\n",
    "- Reducing `max_depth` from 8 to 4 increases validation accuracy closer to training accuracy, while significantly reducing training accuracy.\n",
    "- The validation accuracy reaches the highest at tree_depth=4. \n",
    "- When the `max_depth` is smaller than 3, both training and validation accuracy decreases.  The tree cannot make enough splits to distinguish positives from negatives (the model is underfitting the training set). \n",
    "- When the `max_depth` is too high ( >= 5), validation accuracy decreases while training accuracy increases, indicating that the model is overfitting to the training set.\n",
    "\n",
    "So we can choose the best values for these two hyper-parameters for our model to be:\n",
    "- `max_depth = 4`\n",
    "- `min_samples_split = 50` "
   ]
  },
  {
   "cell_type": "code",
   "execution_count": 16,
   "metadata": {},
   "outputs": [],
   "source": [
    "decision_tree_model = DecisionTreeClassifier(min_samples_split = 50,\n",
    "                                             max_depth = 3,\n",
    "                                             random_state = RANDOM_STATE).fit(X_train,y_train)"
   ]
  },
  {
   "cell_type": "code",
   "execution_count": 17,
   "metadata": {},
   "outputs": [
    {
     "name": "stdout",
     "output_type": "stream",
     "text": [
      "Metrics train:\n",
      "\tAccuracy score: 0.8583\n",
      "Metrics validation:\n",
      "\tAccuracy score: 0.8641\n"
     ]
    }
   ],
   "source": [
    "print(f\"Metrics train:\\n\\tAccuracy score: {accuracy_score(decision_tree_model.predict(X_train),y_train):.4f}\")\n",
    "print(f\"Metrics validation:\\n\\tAccuracy score: {accuracy_score(decision_tree_model.predict(X_val),y_val):.4f}\")"
   ]
  },
  {
   "cell_type": "code",
   "execution_count": 18,
   "metadata": {},
   "outputs": [
    {
     "name": "stdout",
     "output_type": "stream",
     "text": [
      "Original number of features in df: 21\n",
      "Number of features in X_train: 20\n",
      "Number of features in X_val: 20\n"
     ]
    }
   ],
   "source": [
    "# Check the number of features in the original dataset\n",
    "print(\"Original number of features in df:\", df.shape[1])\n",
    "\n",
    "# After splitting, check the number of features in X_train and X_val\n",
    "print(\"Number of features in X_train:\", X_train.shape[1])\n",
    "print(\"Number of features in X_val:\", X_val.shape[1])\n"
   ]
  },
  {
   "cell_type": "markdown",
   "metadata": {},
   "source": [
    "No sign of overfitting, even though the metrics are not that good."
   ]
  },
  {
   "cell_type": "markdown",
   "metadata": {},
   "source": [
    "### Adjusted Code for (1) Feature Selection and (2) Hyperparameter Tuning"
   ]
  },
  {
   "cell_type": "code",
   "execution_count": 19,
   "metadata": {},
   "outputs": [],
   "source": [
    "from sklearn.base import BaseEstimator, TransformerMixin\n",
    "import numpy as np\n",
    "import pandas as pd\n",
    "\n",
    "class RandomFeatureSelector(BaseEstimator, TransformerMixin):\n",
    "    \"\"\"\n",
    "    Randomly selects a specified number of features from the dataset.\n",
    "\n",
    "    Parameters:\n",
    "    -----------\n",
    "    k : int\n",
    "        Number of features to select randomly.\n",
    "    random_state : int, RandomState instance or None, default=None\n",
    "        Controls the randomness of the feature selection.\n",
    "    \"\"\"\n",
    "    \n",
    "    def __init__(self, k, random_state=None):\n",
    "        self.k = k\n",
    "        self.random_state = random_state\n",
    "    \n",
    "    def fit(self, X, y=None):\n",
    "        \"\"\"\n",
    "        Fit the transformer on the data.\n",
    "\n",
    "        Parameters:\n",
    "        -----------\n",
    "        X : array-like or pandas DataFrame, shape (n_samples, n_features)\n",
    "            The input samples.\n",
    "        y : Ignored\n",
    "            Not used, present for API consistency by convention.\n",
    "\n",
    "        Returns:\n",
    "        --------\n",
    "        self : object\n",
    "            Returns self.\n",
    "        \"\"\"\n",
    "        # Determine the number of features in the dataset\n",
    "        n_features = X.shape[1]\n",
    "        \n",
    "        # Validate that k does not exceed the number of available features\n",
    "        if self.k > n_features:\n",
    "            raise ValueError(f\"Cannot select {self.k} features as the dataset only has {n_features} features.\")\n",
    "        \n",
    "        # Initialize the random number generator\n",
    "        self.random_state_ = np.random.RandomState(self.random_state)\n",
    "        \n",
    "        # Randomly select feature indices without replacement\n",
    "        self.selected_indices_ = self.random_state_.choice(n_features, self.k, replace=False)\n",
    "        \n",
    "        # If X is a DataFrame, store the selected feature names\n",
    "        if isinstance(X, pd.DataFrame):\n",
    "            self.selected_features_ = X.columns[self.selected_indices_].tolist()\n",
    "        else:\n",
    "            self.selected_features_ = self.selected_indices_\n",
    "        \n",
    "        return self\n",
    "    \n",
    "    def transform(self, X):\n",
    "        \"\"\"\n",
    "        Transform the dataset by selecting the randomly chosen features.\n",
    "\n",
    "        Parameters:\n",
    "        -----------\n",
    "        X : array-like or pandas DataFrame, shape (n_samples, n_features)\n",
    "            The input samples.\n",
    "\n",
    "        Returns:\n",
    "        --------\n",
    "        X_transformed : array-like or pandas DataFrame, shape (n_samples, k)\n",
    "            The dataset with only the selected features.\n",
    "        \"\"\"\n",
    "        # If X is a DataFrame, select columns by name\n",
    "        if isinstance(X, pd.DataFrame):\n",
    "            return X[self.selected_features_]\n",
    "        else:\n",
    "            # Otherwise, select columns by index\n",
    "            return X[:, self.selected_indices_]"
   ]
  },
  {
   "cell_type": "code",
   "execution_count": 20,
   "metadata": {},
   "outputs": [
    {
     "name": "stdout",
     "output_type": "stream",
     "text": [
      "Number of features available for selection: 20\n",
      "Number of top features to select (k_features): 5\n",
      "Top 5 Hyperparameter Combinations Based on Validation Accuracy:\n",
      "    max_depth  min_samples_split  Training Accuracy  Validation Accuracy\n",
      "34        8.0                 30           0.826975             0.815217\n",
      "36        8.0                100           0.801090             0.788043\n",
      "52       32.0                100           0.801090             0.788043\n",
      "38        8.0                300           0.783379             0.788043\n",
      "20        3.0                100           0.784741             0.788043\n"
     ]
    },
    {
     "data": {
      "image/png": "[encoded data removed]",
      "text/plain": [
       "<Figure size 1152x504 with 4 Axes>"
      ]
     },
     "metadata": {
      "needs_background": "light"
     },
     "output_type": "display_data"
    },
    {
     "name": "stdout",
     "output_type": "stream",
     "text": [
      "\n",
      "Best Hyperparameters Based on Validation Accuracy:\n",
      "Max Depth: 8.0\n",
      "Min Samples Split: 30.0\n",
      "Validation Accuracy: 0.82\n"
     ]
    }
   ],
   "source": [
    "# Import necessary libraries\n",
    "from sklearn.tree import DecisionTreeClassifier\n",
    "from sklearn.metrics import accuracy_score\n",
    "from sklearn.model_selection import GridSearchCV, train_test_split\n",
    "from sklearn.feature_selection import SelectKBest, f_classif\n",
    "from sklearn.pipeline import Pipeline\n",
    "import matplotlib.pyplot as plt\n",
    "import pandas as pd\n",
    "import seaborn as sns\n",
    "\n",
    "\n",
    "# Define the number of top features to select randomly\n",
    "# Dynamically set k_features based on available features\n",
    "desired_k_features = 5  # Desired number of features to select\n",
    "actual_num_features = X_train.shape[1]\n",
    "k_features = min(desired_k_features, actual_num_features)  # Ensure k_features <= n_features\n",
    "\n",
    "\n",
    "print(f\"Number of features available for selection: {actual_num_features}\")\n",
    "print(f\"Number of top features to select (k_features): {k_features}\")\n",
    "\n",
    "# Initialize empty lists to store accuracy scores for training and validation sets\n",
    "accuracy_list_train = []\n",
    "accuracy_list_val = []\n",
    "\n",
    "# Initialize lists to keep track of the corresponding hyperparameters\n",
    "selected_max_depth = []\n",
    "selected_min_samples_split = []\n",
    "\n",
    "# Feature Selection and Hyperparameter Tuning using a Pipeline\n",
    "for max_depth in max_depth_list:\n",
    "    for min_samples_split in min_samples_split_list:\n",
    "        # Create a pipeline that first selects k_features randomly, then fits the Decision Tree\n",
    "        pipeline = Pipeline([\n",
    "            ('feature_selection', RandomFeatureSelector(k=k_features, random_state=42)),\n",
    "            # DecisionTreeClassifier (simple, single tree) vs. RandomForestClassifier (complex, ensemble of multiple trees)\n",
    "            ('classifier', DecisionTreeClassifier( \n",
    "                max_depth=max_depth,\n",
    "                min_samples_split=min_samples_split,\n",
    "                random_state=42\n",
    "            ))\n",
    "        ])\n",
    "        \n",
    "        # Fit the pipeline on the training data\n",
    "        pipeline.fit(X_train, y_train)\n",
    "        \n",
    "        # Predict the labels for the training dataset\n",
    "        predictions_train = pipeline.predict(X_train)  # Predicted values for the training set\n",
    "        \n",
    "        # Predict the labels for the validation dataset\n",
    "        predictions_val = pipeline.predict(X_val)      # Predicted values for the validation set\n",
    "        \n",
    "        # Calculate the accuracy on the training dataset\n",
    "        accuracy_train = accuracy_score(y_train, predictions_train)\n",
    "        \n",
    "        # Calculate the accuracy on the validation dataset\n",
    "        accuracy_val = accuracy_score(y_val, predictions_val)\n",
    "        \n",
    "        # Append the accuracies to the respective lists\n",
    "        accuracy_list_train.append(accuracy_train)\n",
    "        accuracy_list_val.append(accuracy_val)\n",
    "        \n",
    "        # Keep track of the hyperparameters used\n",
    "        selected_max_depth.append(max_depth)\n",
    "        selected_min_samples_split.append(min_samples_split)\n",
    "\n",
    "# Convert the results into a DataFrame for easier analysis\n",
    "results = pd.DataFrame({\n",
    "    'max_depth': selected_max_depth,\n",
    "    'min_samples_split': selected_min_samples_split,\n",
    "    'Training Accuracy': accuracy_list_train,\n",
    "    'Validation Accuracy': accuracy_list_val\n",
    "})\n",
    "\n",
    "# Display the top 5 results sorted by highest validation accuracy\n",
    "print(\"Top 5 Hyperparameter Combinations Based on Validation Accuracy:\")\n",
    "print(results.sort_values(by='Validation Accuracy', ascending=False).head())\n",
    "\n",
    "# Plotting the results\n",
    "# To visualize how different hyperparameters affect the accuracy, we'll create heatmaps\n",
    "\n",
    "# Pivot the DataFrame to create matrices for heatmaps\n",
    "train_pivot = results.pivot(\"max_depth\", \"min_samples_split\", \"Training Accuracy\")\n",
    "val_pivot = results.pivot(\"max_depth\", \"min_samples_split\", \"Validation Accuracy\")\n",
    "\n",
    "# Set up the matplotlib figure\n",
    "plt.figure(figsize=(16, 7))\n",
    "\n",
    "# Heatmap for Training Accuracy\n",
    "plt.subplot(1, 2, 1)\n",
    "sns.heatmap(train_pivot, annot=True, fmt=\".2f\", cmap=\"YlGnBu\")\n",
    "plt.title('Training Accuracy')\n",
    "plt.xlabel('min_samples_split')\n",
    "plt.ylabel('max_depth')\n",
    "\n",
    "# Heatmap for Validation Accuracy\n",
    "plt.subplot(1, 2, 2)\n",
    "sns.heatmap(val_pivot, annot=True, fmt=\".2f\", cmap=\"YlGnBu\")\n",
    "plt.title('Validation Accuracy')\n",
    "plt.xlabel('min_samples_split')\n",
    "plt.ylabel('max_depth')\n",
    "\n",
    "# Adjust layout and display the plots\n",
    "plt.tight_layout()\n",
    "plt.show()\n",
    "\n",
    "# Identify the best hyperparameters based on validation accuracy\n",
    "best_index = results['Validation Accuracy'].idxmax()\n",
    "best_params = results.loc[best_index, ['max_depth', 'min_samples_split']]\n",
    "best_accuracy = results.loc[best_index, 'Validation Accuracy']\n",
    "\n",
    "print(\"\\nBest Hyperparameters Based on Validation Accuracy:\")\n",
    "print(f\"Max Depth: {best_params['max_depth']}\")\n",
    "print(f\"Min Samples Split: {best_params['min_samples_split']}\")\n",
    "print(f\"Validation Accuracy: {best_accuracy:.2f}\")"
   ]
  },
  {
   "cell_type": "markdown",
   "metadata": {},
   "source": [
    "## 4.2 Random Forest\n",
    "\n",
    "Now let's try the Random Forest algorithm also, using the Scikit-learn implementation. \n",
    "- All of the hyperparameters found in the decision tree model will also exist in this algorithm, since a random forest is an ensemble of many Decision Trees.\n",
    "- One additional hyperparameter for Random Forest is called `n_estimators` which is the number of Decision Trees that make up the Random Forest. \n",
    "\n",
    "Remember that for a Random Forest, we randomly choose a subset of the features AND randomly choose a subset of the training examples to train each individual tree.\n",
    "- Following the lectures, **if $n$ is the number of features, we will randomly select $\\sqrt{n}$ of these features to train each individual tree**. \n",
    "- Note that you can modify this by setting the `max_features` parameter.\n",
    "\n",
    "You can also **speed up your training jobs with another parameter, `n_jobs`**. \n",
    "- Since the fitting of each tree is independent of each other, it is possible fit more than one tree in parallel. \n",
    "- So setting `n_jobs` higher will increase how many CPU cores it will use. Note that the numbers very close to the maximum cores of your CPU may impact on the overall performance of your PC and even lead to freezes. \n",
    "- Changing this parameter does not impact on the final result but can reduce the training time.\n",
    "\n",
    "We will run the same script again, but with another parameter, `n_estimators`, where we will choose between 10, 50, and 100. The default is 100."
   ]
  },
  {
   "cell_type": "code",
   "execution_count": 21,
   "metadata": {},
   "outputs": [],
   "source": [
    "min_samples_split_list = [2,10, 30, 50, 100, 200, 300, 700]  ## If the number is an integer, then it is the actual quantity of samples,\n",
    "                                             ## If it is a float, then it is the percentage of the dataset\n",
    "max_depth_list = [2, 4, 8, 16, 32, 64, None]\n",
    "n_estimators_list = [10,50,100,500]"
   ]
  },
  {
   "cell_type": "code",
   "execution_count": 22,
   "metadata": {},
   "outputs": [
    {
     "data": {
      "image/png": "[encoded data removed]",
      "text/plain": [
       "<Figure size 432x288 with 1 Axes>"
      ]
     },
     "metadata": {
      "needs_background": "light"
     },
     "output_type": "display_data"
    }
   ],
   "source": [
    "# Import necessary libraries\n",
    "from sklearn.ensemble import RandomForestClassifier\n",
    "from sklearn.metrics import accuracy_score\n",
    "import matplotlib.pyplot as plt\n",
    "\n",
    "# Initialize empty lists to store accuracy scores for training and validation sets\n",
    "accuracy_list_train = []\n",
    "accuracy_list_val = []\n",
    "\n",
    "# Iterate over each value in min_samples_split_list to evaluate different split thresholds\n",
    "for min_samples_split in min_samples_split_list:\n",
    "    # Initialize the Random Forest model with the current min_samples_split value\n",
    "    # random_state ensures reproducibility of results\n",
    "    # The fit method trains the model on the training data (X_train, y_train)\n",
    "    model = RandomForestClassifier(\n",
    "        min_samples_split=min_samples_split,\n",
    "        random_state=RANDOM_STATE\n",
    "    ).fit(X_train, y_train)\n",
    "    \n",
    "    # Predict the labels for the training dataset using the trained model\n",
    "    predictions_train = model.predict(X_train)  # Predicted values for the training set\n",
    "    \n",
    "    # Predict the labels for the validation dataset using the trained model\n",
    "    predictions_val = model.predict(X_val)      # Predicted values for the validation set\n",
    "    \n",
    "    # Calculate the accuracy of the model on the training dataset\n",
    "    # accuracy_score compares the predicted labels with the true labels (y_train)\n",
    "    accuracy_train = accuracy_score(y_train, predictions_train)\n",
    "    \n",
    "    # Calculate the accuracy of the model on the validation dataset\n",
    "    # accuracy_score compares the predicted labels with the true labels (y_val)\n",
    "    accuracy_val = accuracy_score(y_val, predictions_val)\n",
    "    \n",
    "    # Append the training accuracy to the accuracy_list_train\n",
    "    accuracy_list_train.append(accuracy_train)\n",
    "    \n",
    "    # Append the validation accuracy to the accuracy_list_val\n",
    "    accuracy_list_val.append(accuracy_val)\n",
    "\n",
    "# Set the title of the plot\n",
    "plt.title('Train vs Validation Accuracy Metrics')\n",
    "\n",
    "# Label the x-axis with the parameter being varied\n",
    "plt.xlabel('min_samples_split')\n",
    "\n",
    "# Label the y-axis with the metric being measured\n",
    "plt.ylabel('Accuracy')\n",
    "\n",
    "# Define the positions and labels for the x-ticks based on the number of min_samples_split values\n",
    "plt.xticks(\n",
    "    ticks=range(len(min_samples_split_list)),\n",
    "    labels=min_samples_split_list\n",
    ")\n",
    "\n",
    "# Plot the training accuracy scores\n",
    "plt.plot(accuracy_list_train, marker='o', label='Train')\n",
    "\n",
    "# Plot the validation accuracy scores\n",
    "plt.plot(accuracy_list_val, marker='s', label='Validation')\n",
    "\n",
    "# Add a legend to distinguish between training and validation plots\n",
    "plt.legend(['Train', 'Validation'])\n",
    "\n",
    "# Display the plot\n",
    "plt.show()\n"
   ]
  },
  {
   "cell_type": "markdown",
   "metadata": {},
   "source": [
    "Notice that, even though the validation accuraty reaches is the same both at `min_samples_split = 2` and `min_samples_split = 10`, in the latter the difference in training and validation set reduces, showing less overfitting."
   ]
  },
  {
   "cell_type": "code",
   "execution_count": 23,
   "metadata": {},
   "outputs": [
    {
     "data": {
      "text/plain": [
       "<matplotlib.legend.Legend at 0x7d58da7bd790>"
      ]
     },
     "execution_count": 23,
     "metadata": {},
     "output_type": "execute_result"
    },
    {
     "data": {
      "image/png": "[encoded data removed]",
      "text/plain": [
       "<Figure size 432x288 with 1 Axes>"
      ]
     },
     "metadata": {
      "needs_background": "light"
     },
     "output_type": "display_data"
    }
   ],
   "source": [
    "# Initialize empty lists to store accuracy scores for training and validation sets\n",
    "accuracy_list_train = []\n",
    "accuracy_list_val = []\n",
    "\n",
    "# Iterate over each value in max_depth_list to evaluate different tree depths\n",
    "for max_depth in max_depth_list:\n",
    "    # Initialize and train the Random Forest model with the current max_depth\n",
    "    # The fit method trains the model on the training data and returns the fitted estimator\n",
    "    model = RandomForestClassifier(max_depth=max_depth,\n",
    "                                   random_state=RANDOM_STATE).fit(X_train, y_train) \n",
    "    \n",
    "    # Predict the labels for the training dataset using the trained model\n",
    "    predictions_train = model.predict(X_train)  # The predicted values for the train dataset\n",
    "    \n",
    "    # Predict the labels for the validation dataset using the trained model\n",
    "    predictions_val = model.predict(X_val)      # The predicted values for the validation dataset\n",
    "    \n",
    "    # Calculate the accuracy of the model on the training dataset\n",
    "    accuracy_train = accuracy_score(predictions_train, y_train)\n",
    "    \n",
    "    # Calculate the accuracy of the model on the validation dataset\n",
    "    accuracy_val = accuracy_score(predictions_val, y_val)\n",
    "    \n",
    "    # Append the training accuracy to the accuracy_list_train\n",
    "    accuracy_list_train.append(accuracy_train)\n",
    "    \n",
    "    # Append the validation accuracy to the accuracy_list_val\n",
    "    accuracy_list_val.append(accuracy_val)\n",
    "\n",
    "# Set the title of the plot\n",
    "plt.title('Train x Validation metrics')\n",
    "\n",
    "# Label the x-axis with the hyperparameter being varied\n",
    "plt.xlabel('max_depth')\n",
    "\n",
    "# Label the y-axis with the performance metric\n",
    "plt.ylabel('accuracy')\n",
    "\n",
    "# Set the x-ticks to correspond to the max_depth values\n",
    "plt.xticks(ticks=range(len(max_depth_list)), labels=max_depth_list)\n",
    "\n",
    "# Plot the training accuracy scores\n",
    "plt.plot(accuracy_list_train)\n",
    "\n",
    "# Plot the validation accuracy scores\n",
    "plt.plot(accuracy_list_val)\n",
    "\n",
    "# Add a legend to distinguish between training and validation accuracy lines\n",
    "plt.legend(['Train', 'Validation'])\n"
   ]
  },
  {
   "cell_type": "code",
   "execution_count": 24,
   "metadata": {},
   "outputs": [
    {
     "data": {
      "image/png": "[encoded data removed]",
      "text/plain": [
       "<Figure size 432x288 with 1 Axes>"
      ]
     },
     "metadata": {
      "needs_background": "light"
     },
     "output_type": "display_data"
    }
   ],
   "source": [
    "# Import necessary libraries\n",
    "from sklearn.ensemble import RandomForestClassifier  # For building the Random Forest model\n",
    "from sklearn.metrics import accuracy_score          # For evaluating model accuracy\n",
    "import matplotlib.pyplot as plt                     # For plotting results\n",
    "\n",
    "# Initialize empty lists to store accuracy scores for training and validation sets\n",
    "accuracy_list_train = []\n",
    "accuracy_list_val = []\n",
    "\n",
    "# Iterate over each value in n_estimators_list to evaluate different numbers of trees in the forest\n",
    "for n_estimators in n_estimators_list:\n",
    "    # Initialize and train the Random Forest model with the current number of estimators\n",
    "    # The fit method trains the model on the training data and returns the fitted estimator\n",
    "    model = RandomForestClassifier(\n",
    "        n_estimators=n_estimators,         # Number of trees in the forest\n",
    "        random_state=RANDOM_STATE          # Ensures reproducibility of results\n",
    "    ).fit(X_train, y_train)                 # Fits the model on training data\n",
    "    \n",
    "    # Predict the labels for the training dataset using the trained model\n",
    "    predictions_train = model.predict(X_train)  # The predicted values for the training set\n",
    "    \n",
    "    # Predict the labels for the validation dataset using the trained model\n",
    "    predictions_val = model.predict(X_val)      # The predicted values for the validation set\n",
    "    \n",
    "    # Calculate the accuracy of the model on the training dataset\n",
    "    accuracy_train = accuracy_score(y_train, predictions_train)\n",
    "    \n",
    "    # Calculate the accuracy of the model on the validation dataset\n",
    "    accuracy_val = accuracy_score(y_val, predictions_val)\n",
    "    \n",
    "    # Append the training accuracy to the accuracy_list_train\n",
    "    accuracy_list_train.append(accuracy_train)\n",
    "    \n",
    "    # Append the validation accuracy to the accuracy_list_val\n",
    "    accuracy_list_val.append(accuracy_val)\n",
    "\n",
    "# Set the title of the plot\n",
    "plt.title('Train x Validation Metrics')\n",
    "\n",
    "# Label the x-axis with the hyperparameter being varied\n",
    "plt.xlabel('n_estimators')\n",
    "\n",
    "# Label the y-axis with the performance metric\n",
    "plt.ylabel('Accuracy')\n",
    "\n",
    "# Set the x-ticks to correspond to the n_estimators values\n",
    "plt.xticks(\n",
    "    ticks=range(len(n_estimators_list)),  # Positions of the ticks\n",
    "    labels=n_estimators_list               # Labels for each tick\n",
    ")\n",
    "\n",
    "# Plot the training accuracy scores\n",
    "plt.plot(accuracy_list_train, marker='o', label='Train')  # Adding marker 'o' for clarity\n",
    "\n",
    "# Plot the validation accuracy scores\n",
    "plt.plot(accuracy_list_val, marker='s', label='Validation')  # Adding marker 's' for clarity\n",
    "\n",
    "# Add a legend to distinguish between training and validation accuracy lines\n",
    "plt.legend(['Train', 'Validation'])\n",
    "\n",
    "# Display the plot\n",
    "plt.show()\n"
   ]
  },
  {
   "cell_type": "markdown",
   "metadata": {},
   "source": [
    "**Integration of Feature Selection with Random Forests**:\n",
    "- `SelectKBest` is a filter method for feature selection in Scikit-learn. It selects the top `k` features based on a specified scoring function. The scoring function evaluates each feature individually, assigning a score that reflects its importance or relevance to the target variable.\n",
    "- Common scoring functions include:\n",
    "    - f_classif: Computes the ANOVA F-value between each feature and the target for classification tasks.\n",
    "    - chi2: Computes the chi-square statistic between each feature and the target for non-negative features.\n",
    "    - mutual_info_classif: Estimates mutual information for classification tasks.\n",
    "    - f_regression: Computes the correlation between each feature and the target for regression tasks."
   ]
  },
  {
   "cell_type": "code",
   "execution_count": 25,
   "metadata": {},
   "outputs": [
    {
     "name": "stdout",
     "output_type": "stream",
     "text": [
      "Number of features available for selection: 20\n",
      "Number of top features to select (k_features): 5\n",
      "\n",
      "Accuracy Scores for Different min_samples_split Values:\n",
      "   min_samples_split  Training Accuracy  Validation Accuracy\n",
      "0                  2           0.840599             0.842391\n",
      "1                 10           0.840599             0.842391\n",
      "2                 30           0.840599             0.842391\n",
      "3                 50           0.840599             0.842391\n",
      "4                100           0.840599             0.842391\n",
      "5                200           0.840599             0.842391\n",
      "6                300           0.810627             0.826087\n",
      "7                700           0.551771             0.559783\n"
     ]
    },
    {
     "data": {
      "image/png": "[encoded data removed]",
      "text/plain": [
       "<Figure size 720x432 with 1 Axes>"
      ]
     },
     "metadata": {
      "needs_background": "light"
     },
     "output_type": "display_data"
    },
    {
     "name": "stdout",
     "output_type": "stream",
     "text": [
      "\n",
      "Best min_samples_split: 2\n",
      "Validation Accuracy of Best Model: 0.84\n"
     ]
    }
   ],
   "source": [
    "# Import necessary libraries\n",
    "from sklearn.ensemble import RandomForestClassifier\n",
    "from sklearn.metrics import accuracy_score\n",
    "from sklearn.model_selection import GridSearchCV, train_test_split\n",
    "import matplotlib.pyplot as plt\n",
    "import pandas as pd\n",
    "\n",
    "# Define the number of top features to select\n",
    "# Ensure that k_features does not exceed the number of available features\n",
    "desired_k_features = 5\n",
    "actual_num_features = X_train.shape[1]\n",
    "k_features = min(desired_k_features, actual_num_features)\n",
    "print(f\"Number of features available for selection: {actual_num_features}\")\n",
    "print(f\"Number of top features to select (k_features): {k_features}\")\n",
    "\n",
    "# Initialize empty lists to store accuracy scores for training and validation sets\n",
    "accuracy_list_train = []\n",
    "accuracy_list_val = []\n",
    "\n",
    "# Initialize lists to keep track of the corresponding hyperparameters\n",
    "selected_min_samples_split = []\n",
    "\n",
    "# Feature Selection and Hyperparameter Tuning using a Pipeline\n",
    "for min_samples_split in min_samples_split_list:\n",
    "    # Create a pipeline that first selects the top k features, then fits the Random Forest\n",
    "    pipeline = Pipeline([\n",
    "        ('feature_selection', SelectKBest(score_func=f_classif, k=k_features)),\n",
    "        ('classifier', RandomForestClassifier(\n",
    "            min_samples_split=min_samples_split,\n",
    "            random_state=42,\n",
    "            n_estimators=100  # You can adjust the number of trees as needed\n",
    "        ))\n",
    "    ])\n",
    "    \n",
    "    # Fit the pipeline on the training data\n",
    "    pipeline.fit(X_train, y_train)\n",
    "    \n",
    "    # Predict the labels for the training dataset using the trained model\n",
    "    predictions_train = pipeline.predict(X_train)  # Predicted values for the training set\n",
    "    \n",
    "    # Predict the labels for the validation dataset using the trained model\n",
    "    predictions_val = pipeline.predict(X_val)      # Predicted values for the validation set\n",
    "    \n",
    "    # Calculate the accuracy of the model on the training dataset\n",
    "    accuracy_train = accuracy_score(y_train, predictions_train)\n",
    "    \n",
    "    # Calculate the accuracy of the model on the validation dataset\n",
    "    accuracy_val = accuracy_score(y_val, predictions_val)\n",
    "    \n",
    "    # Append the training accuracy to the accuracy_list_train\n",
    "    accuracy_list_train.append(accuracy_train)\n",
    "    \n",
    "    # Append the validation accuracy to the accuracy_list_val\n",
    "    accuracy_list_val.append(accuracy_val)\n",
    "    \n",
    "    # Keep track of the hyperparameters used\n",
    "    selected_min_samples_split.append(min_samples_split)\n",
    "\n",
    "# Convert the results into a DataFrame for easier analysis\n",
    "results = pd.DataFrame({\n",
    "    'min_samples_split': selected_min_samples_split,\n",
    "    'Training Accuracy': accuracy_list_train,\n",
    "    'Validation Accuracy': accuracy_list_val\n",
    "})\n",
    "\n",
    "# Display the results\n",
    "print(\"\\nAccuracy Scores for Different min_samples_split Values:\")\n",
    "print(results)\n",
    "\n",
    "# Plotting the results\n",
    "plt.figure(figsize=(10, 6))\n",
    "plt.title('Train vs Validation Accuracy Metrics')\n",
    "plt.xlabel('min_samples_split')\n",
    "plt.ylabel('Accuracy')\n",
    "\n",
    "# Set the x-ticks to correspond to the min_samples_split values\n",
    "plt.xticks(ticks=range(len(min_samples_split_list)), labels=min_samples_split_list)\n",
    "\n",
    "# Plot the training accuracy scores with markers for clarity\n",
    "plt.plot(accuracy_list_train, marker='o', label='Train')\n",
    "\n",
    "# Plot the validation accuracy scores with markers for clarity\n",
    "plt.plot(accuracy_list_val, marker='s', label='Validation')\n",
    "\n",
    "# Add a legend to distinguish between training and validation plots\n",
    "plt.legend(['Train', 'Validation'])\n",
    "\n",
    "# Display the plot\n",
    "plt.show()\n",
    "\n",
    "# Identify the best hyperparameter based on validation accuracy\n",
    "best_index = results['Validation Accuracy'].idxmax()\n",
    "best_min_samples_split = results.loc[best_index, 'min_samples_split']\n",
    "best_validation_accuracy = results.loc[best_index, 'Validation Accuracy']\n",
    "\n",
    "print(f\"\\nBest min_samples_split: {best_min_samples_split}\")\n",
    "print(f\"Validation Accuracy of Best Model: {best_validation_accuracy:.2f}\")\n"
   ]
  },
  {
   "cell_type": "markdown",
   "metadata": {},
   "source": [
    "Let's then fit a random forest with the following parameters:\n",
    "\n",
    " - max_depth: 16\n",
    " - min_samples_split: 10\n",
    " - n_estimators: 100"
   ]
  },
  {
   "cell_type": "code",
   "execution_count": 26,
   "metadata": {},
   "outputs": [],
   "source": [
    "random_forest_model = RandomForestClassifier(n_estimators = 100,\n",
    "                                             max_depth = 16, \n",
    "                                             min_samples_split = 10).fit(X_train,y_train)"
   ]
  },
  {
   "cell_type": "code",
   "execution_count": 86,
   "metadata": {},
   "outputs": [
    {
     "name": "stdout",
     "output_type": "stream",
     "text": [
      "Metrics train:\n",
      "\tAccuracy score: 0.9319\n",
      "Metrics test:\n",
      "\tAccuracy score: 0.9022\n"
     ]
    }
   ],
   "source": [
    "print(f\"Metrics train:\\n\\tAccuracy score: {accuracy_score(random_forest_model.predict(X_train),y_train):.4f}\\nMetrics test:\\n\\tAccuracy score: {accuracy_score(random_forest_model.predict(X_val),y_val):.4f}\")"
   ]
  },
  {
   "cell_type": "markdown",
   "metadata": {},
   "source": [
    "Note that we are searching for the best value one hyperparameter while leaving the other hyperparameters at their default values.\n",
    "- Ideally, we would want to check every combination of values for every hyperparameter that we are tuning.\n",
    "- If we have 3 hyperparameters, and each hyperparameter has 4 values to try out, we should have a total of 4 x 4 x 4 = 64 combinations to try.\n",
    "- When we only modify one hyperparameter while leaving the rest as their default value, we are trying 4 + 4 + 4 = 12 results. \n",
    "- To try out all combinations, we can use a sklearn implementation called GridSearchCV. GridSearchCV has a refit parameter that will automatically refit a model on the best combination so we will not need to program it explicitly. For more on GridSearchCV, please refer to its [documentation](https://scikit-learn.org/stable/modules/generated/sklearn.model_selection.GridSearchCV.html)."
   ]
  },
  {
   "cell_type": "code",
   "execution_count": null,
   "metadata": {},
   "outputs": [
    {
     "name": "stdout",
     "output_type": "stream",
     "text": [
      "\n",
      "Starting Grid Search...\n",
      "Fitting 5 folds for each of 896 candidates, totalling 4480 fits\n"
     ]
    }
   ],
   "source": [
    "# Import necessary libraries\n",
    "from sklearn.ensemble import RandomForestClassifier\n",
    "from sklearn.feature_selection import SelectKBest, f_classif\n",
    "from sklearn.metrics import accuracy_score, classification_report, confusion_matrix\n",
    "from sklearn.model_selection import GridSearchCV, train_test_split\n",
    "from sklearn.pipeline import Pipeline\n",
    "import matplotlib.pyplot as plt\n",
    "import pandas as pd\n",
    "import seaborn as sns\n",
    "\n",
    "# Define the hyperparameter grid\n",
    "param_grid = {\n",
    "    'feature_selection__k': [5, 10, 15, 20],                # Number of top features to select\n",
    "    'classifier__min_samples_split': [2, 10, 30, 50, 100, 200, 300, 700],  # Minimum samples required to split an internal node\n",
    "    'classifier__max_depth': [2, 4, 8, 16, 32, 64, None],   # Maximum depth of the tree\n",
    "    'classifier__n_estimators': [10, 50, 100, 500]          # Number of trees in the forest\n",
    "}\n",
    "\n",
    "# Define the pipeline steps\n",
    "pipeline = Pipeline([\n",
    "    ('feature_selection', SelectKBest(score_func=f_classif)),  # Feature selection step\n",
    "    ('classifier', RandomForestClassifier(random_state=42))   # Classification step\n",
    "])\n",
    "\n",
    "# Initialize GridSearchCV\n",
    "grid_search = GridSearchCV(\n",
    "    estimator=pipeline,          # The pipeline to optimize\n",
    "    param_grid=param_grid,       # The hyperparameter grid\n",
    "    cv=5,                        # 5-fold cross-validation\n",
    "    scoring='accuracy',          # Evaluation metric\n",
    "    n_jobs=-1,                   # Utilize all available CPU cores\n",
    "    verbose=2                    # Verbosity mode (controls the amount of messages)\n",
    ")\n",
    "\n",
    "# Fit GridSearchCV on the training data\n",
    "print(\"\\nStarting Grid Search...\")\n",
    "grid_search.fit(X_train, y_train)\n",
    "print(\"Grid Search completed.\")\n",
    "\n",
    "# Retrieve the best parameters and best score from GridSearchCV\n",
    "best_params = grid_search.best_params_\n",
    "best_score = grid_search.best_score_\n",
    "\n",
    "print(\"\\nBest Parameters Found:\")\n",
    "print(best_params)\n",
    "print(f\"\\nBest Cross-Validation Accuracy: {best_score:.4f}\")\n",
    "\n",
    "# Use the best estimator to make predictions on the validation set\n",
    "best_model = grid_search.best_estimator_\n",
    "predictions_val = best_model.predict(X_val)\n",
    "\n",
    "# Calculate validation accuracy\n",
    "validation_accuracy = accuracy_score(y_val, predictions_val)\n",
    "print(f\"\\nValidation Accuracy of Best Model: {validation_accuracy:.4f}\")\n",
    "\n",
    "# Generate classification report\n",
    "print(\"\\nClassification Report:\")\n",
    "print(classification_report(y_val, predictions_val))\n",
    "\n",
    "# Generate confusion matrix\n",
    "print(\"Confusion Matrix:\")\n",
    "print(confusion_matrix(y_val, predictions_val))\n",
    "\n",
    "# Convert the grid search results to a DataFrame\n",
    "results_df = pd.DataFrame(grid_search.cv_results_)\n",
    "\n",
    "# Display the first few rows of the results\n",
    "print(\"\\nGrid Search Results:\")\n",
    "print(results_df.head())\n",
    "\n",
    "# Pivot the DataFrame for heatmap visualization\n",
    "# Example: Fixing max_depth and k to visualize min_samples_split vs. n_estimators\n",
    "fixed_max_depth = best_params['classifier__max_depth']\n",
    "fixed_k = best_params['feature_selection__k']\n",
    "\n",
    "# Filter results for the fixed max_depth and k\n",
    "filtered_results = results_df[\n",
    "    (results_df['param_classifier__max_depth'] == fixed_max_depth) &\n",
    "    (results_df['param_feature_selection__k'] == fixed_k)\n",
    "]\n",
    "\n",
    "# Pivot the DataFrame to create a matrix for heatmap\n",
    "pivot_table = filtered_results.pivot(\n",
    "    index='param_classifier__min_samples_split', \n",
    "    columns='param_classifier__n_estimators', \n",
    "    values='mean_test_score'\n",
    ")\n",
    "\n",
    "# Display the pivot table\n",
    "print(\"\\nPivot Table for Heatmap:\")\n",
    "print(pivot_table)\n",
    "\n",
    "# Set up the matplotlib figure\n",
    "plt.figure(figsize=(12, 8))\n",
    "\n",
    "# Create a heatmap with seaborn\n",
    "sns.heatmap(\n",
    "    pivot_table, \n",
    "    annot=True, \n",
    "    fmt=\".3f\", \n",
    "    cmap=\"YlGnBu\",\n",
    "    linewidths=.5\n",
    ")\n",
    "\n",
    "# Set plot labels and title\n",
    "plt.title(f'GridSearchCV Accuracy Heatmap\\nmax_depth={fixed_max_depth}, k={fixed_k}')\n",
    "plt.xlabel('n_estimators')\n",
    "plt.ylabel('min_samples_split')\n",
    "\n",
    "# Display the heatmap\n",
    "plt.show()\n"
   ]
  },
  {
   "cell_type": "markdown",
   "metadata": {},
   "source": [
    "## 4.3 XGBoost\n",
    "\n",
    "Next is the Gradient Boosting model, called XGBoost. The boosting methods train several trees, but instead of them being uncorrelated to each other, now the trees are fit one after the other in order to minimize the error. \n",
    "\n",
    "The model has the same parameters as a decision tree, plus the learning rate.\n",
    "- The learning rate is the size of the step on the Gradient Descent method that the XGBoost uses internally to minimize the error on each train step.\n",
    "\n",
    "One interesting thing about the XGBoost is that during fitting, it can take in an evaluation dataset of the form `(X_val,y_val)`.\n",
    "- On each iteration, it measures the cost (or evaluation metric) on the evaluation datasets.\n",
    "- Once the cost (or metric) stops decreasing for a number of rounds (called early_stopping_rounds), the training will stop. \n",
    "- More iterations lead to more estimators, and more estimators can result in overfitting.  \n",
    "- By stopping once the validation metric no longer improves, we can limit the number of estimators created, and reduce overfitting.\n",
    "\n",
    "First, let's define a subset of our training set (we should not use the test set here)."
   ]
  },
  {
   "cell_type": "code",
   "execution_count": 27,
   "metadata": {},
   "outputs": [],
   "source": [
    "n = int(len(X_train)*0.8) ## Let's use 80% to train and 20% to eval"
   ]
  },
  {
   "cell_type": "code",
   "execution_count": 28,
   "metadata": {},
   "outputs": [],
   "source": [
    "X_train_fit, X_train_eval, y_train_fit, y_train_eval = X_train[:n], X_train[n:], y_train[:n], y_train[n:]"
   ]
  },
  {
   "cell_type": "markdown",
   "metadata": {},
   "source": [
    "We can then set a large number of estimators, because we can stop if the cost function stops decreasing."
   ]
  },
  {
   "cell_type": "markdown",
   "metadata": {},
   "source": [
    "Note some of the `.fit()` parameters:\n",
    "- `eval_set = [(X_train_eval,y_train_eval)]`:Here we must pass a list to the eval_set, because you can have **several different tuples ov eval sets**. \n",
    "- `early_stopping_rounds`: This parameter helps to stop the model training if its evaluation metric is no longer improving on the validation set. It's set to 10.\n",
    "  - The model keeps track of the round with the **best performance (lowest evaluation metric)**.  For example, let's say round 16 has the lowest evaluation metric so far.\n",
    "  - Each successive round's evaluation metric is compared to the best metric.  **If the model goes 10 rounds where none have a better metric than the best one, then the model stops training**.\n",
    "  - When you use early stopping during model training, the training process halts once the model's performance on a validation set stops improving for a specified number of consecutive iterations (early_stopping_rounds). However, the model retains the parameters from the final iteration at which training stopped, not from the iteration where it achieved its best performance. For example, **training stops at iteration 26, and the model retains the parameters from iteration 26, not from iteration 16**.\n",
    "  - Note that this is different from returning the model's \"best\" state (from when the evaluation metric was the lowest)."
   ]
  },
  {
   "cell_type": "code",
   "execution_count": 29,
   "metadata": {},
   "outputs": [
    {
     "name": "stdout",
     "output_type": "stream",
     "text": [
      "[0]\tvalidation_0-logloss:0.64479\n",
      "[1]\tvalidation_0-logloss:0.60569\n",
      "[2]\tvalidation_0-logloss:0.57481\n",
      "[3]\tvalidation_0-logloss:0.54947\n",
      "[4]\tvalidation_0-logloss:0.52973\n",
      "[5]\tvalidation_0-logloss:0.51331\n",
      "[6]\tvalidation_0-logloss:0.49823\n",
      "[7]\tvalidation_0-logloss:0.48855\n",
      "[8]\tvalidation_0-logloss:0.47888\n",
      "[9]\tvalidation_0-logloss:0.47068\n",
      "[10]\tvalidation_0-logloss:0.46507\n",
      "[11]\tvalidation_0-logloss:0.45832\n",
      "[12]\tvalidation_0-logloss:0.45557\n",
      "[13]\tvalidation_0-logloss:0.45030\n",
      "[14]\tvalidation_0-logloss:0.44653\n",
      "[15]\tvalidation_0-logloss:0.44213\n",
      "[16]\tvalidation_0-logloss:0.43948\n",
      "[17]\tvalidation_0-logloss:0.44088\n",
      "[18]\tvalidation_0-logloss:0.44358\n",
      "[19]\tvalidation_0-logloss:0.44493\n",
      "[20]\tvalidation_0-logloss:0.44294\n",
      "[21]\tvalidation_0-logloss:0.44486\n",
      "[22]\tvalidation_0-logloss:0.44586\n",
      "[23]\tvalidation_0-logloss:0.44680\n",
      "[24]\tvalidation_0-logloss:0.44925\n",
      "[25]\tvalidation_0-logloss:0.45383\n"
     ]
    },
    {
     "data": {
      "text/plain": [
       "XGBClassifier(base_score=0.5, booster='gbtree', callbacks=None,\n",
       "              colsample_bylevel=1, colsample_bynode=1, colsample_bytree=1,\n",
       "              early_stopping_rounds=None, enable_categorical=False,\n",
       "              eval_metric=None, gamma=0, gpu_id=-1, grow_policy='depthwise',\n",
       "              importance_type=None, interaction_constraints='',\n",
       "              learning_rate=0.1, max_bin=256, max_cat_to_onehot=4,\n",
       "              max_delta_step=0, max_depth=6, max_leaves=0, min_child_weight=1,\n",
       "              missing=nan, monotone_constraints='()', n_estimators=500,\n",
       "              n_jobs=0, num_parallel_tree=1, predictor='auto', random_state=55,\n",
       "              reg_alpha=0, reg_lambda=1, ...)"
      ]
     },
     "execution_count": 29,
     "metadata": {},
     "output_type": "execute_result"
    }
   ],
   "source": [
    "xgb_model = XGBClassifier(n_estimators = 500, learning_rate = 0.1,verbosity = 1, random_state = RANDOM_STATE)\n",
    "xgb_model.fit(X_train_fit,y_train_fit, eval_set = [(X_train_eval,y_train_eval)], early_stopping_rounds = 10)"
   ]
  },
  {
   "cell_type": "markdown",
   "metadata": {},
   "source": [
    "Even though we initialized the model to allow up to 500 estimators, the algorithm only fit 26 estimators (over 26 rounds of training).\n",
    "\n",
    "To see why, let's look for the round of training that had the best performance (lowest evaluation metric).  You can either view the validation log loss metrics that were output above, or view the model's `.best_iteration` attribute:"
   ]
  },
  {
   "cell_type": "code",
   "execution_count": 30,
   "metadata": {},
   "outputs": [
    {
     "data": {
      "text/plain": [
       "16"
      ]
     },
     "execution_count": 30,
     "metadata": {},
     "output_type": "execute_result"
    }
   ],
   "source": [
    "xgb_model.best_iteration"
   ]
  },
  {
   "cell_type": "markdown",
   "metadata": {},
   "source": [
    "The best round of training was round 16, with a log loss of 4.3948.  \n",
    "- **For 10 rounds of training after that (from round 17 to 26), the log loss was higher than this**.\n",
    "- Since we set `early_stopping_rounds` to 10, then by the 10th round where the log loss doesn't improve upon the best one, training stops.\n",
    "- You can try out different values of `early_stopping_rounds` to verify this.  **If you set it to 20, for instance, the model stops training at round 36 (16 + 20)**."
   ]
  },
  {
   "cell_type": "code",
   "execution_count": 31,
   "metadata": {},
   "outputs": [
    {
     "name": "stdout",
     "output_type": "stream",
     "text": [
      "Metrics train:\n",
      "\tAccuracy score: 0.9251\n",
      "Metrics test:\n",
      "\tAccuracy score: 0.8641\n"
     ]
    }
   ],
   "source": [
    "print(f\"Metrics train:\\n\\tAccuracy score: {accuracy_score(xgb_model.predict(X_train),y_train):.4f}\\nMetrics test:\\n\\tAccuracy score: {accuracy_score(xgb_model.predict(X_val),y_val):.4f}\")"
   ]
  },
  {
   "cell_type": "markdown",
   "metadata": {},
   "source": [
    "In this example, both Random Forest and XGBoost had similar performance (test accuracy).  \n",
    "\n",
    "Congratulations, you have learned how to use Decision Tree, Random Forest from the scikit-learn library and XGBoost!"
   ]
  }
 ],
 "metadata": {
  "kernelspec": {
   "display_name": "Python 3",
   "language": "python",
   "name": "python3"
  },
  "language_info": {
   "codemirror_mode": {
    "name": "ipython",
    "version": 3
   },
   "file_extension": ".py",
   "mimetype": "text/x-python",
   "name": "python",
   "nbconvert_exporter": "python",
   "pygments_lexer": "ipython3",
   "version": "3.7.6"
  },
  "vscode": {
   "interpreter": {
    "hash": "56d44d6a8424451b5ce45d1ae0b0b7865dc60710e7f74571dd51dd80d7829ee9"
   }
  }
 },
 "nbformat": 4,
 "nbformat_minor": 5
}
